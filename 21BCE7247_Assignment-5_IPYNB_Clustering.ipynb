{
 "cells": [
  {
   "cell_type": "markdown",
   "id": "7af3c4ce",
   "metadata": {},
   "source": [
    "# <u>Import necessary libraries</u>"
   ]
  },
  {
   "cell_type": "code",
   "execution_count": 2,
   "id": "2495e863",
   "metadata": {},
   "outputs": [],
   "source": [
    "import numpy as np\n",
    "import pandas as pd\n",
    "import matplotlib.pyplot as plt\n",
    "import seaborn as sns\n",
    "from sklearn.preprocessing import LabelEncoder\n",
    "from sklearn.cluster import KMeans"
   ]
  },
  {
   "cell_type": "markdown",
   "id": "da957800",
   "metadata": {},
   "source": [
    "# <u>Import the dataset</u>"
   ]
  },
  {
   "cell_type": "code",
   "execution_count": 3,
   "id": "e82209e9",
   "metadata": {},
   "outputs": [],
   "source": [
    "df=pd.read_csv(\"Mall_Customers.csv\")"
   ]
  },
  {
   "cell_type": "code",
   "execution_count": 4,
   "id": "8914fc49",
   "metadata": {},
   "outputs": [
    {
     "data": {
      "text/html": [
       "<div>\n",
       "<style scoped>\n",
       "    .dataframe tbody tr th:only-of-type {\n",
       "        vertical-align: middle;\n",
       "    }\n",
       "\n",
       "    .dataframe tbody tr th {\n",
       "        vertical-align: top;\n",
       "    }\n",
       "\n",
       "    .dataframe thead th {\n",
       "        text-align: right;\n",
       "    }\n",
       "</style>\n",
       "<table border=\"1\" class=\"dataframe\">\n",
       "  <thead>\n",
       "    <tr style=\"text-align: right;\">\n",
       "      <th></th>\n",
       "      <th>CustomerID</th>\n",
       "      <th>Genre</th>\n",
       "      <th>Age</th>\n",
       "      <th>Annual Income (k$)</th>\n",
       "      <th>Spending Score (1-100)</th>\n",
       "    </tr>\n",
       "  </thead>\n",
       "  <tbody>\n",
       "    <tr>\n",
       "      <th>0</th>\n",
       "      <td>1</td>\n",
       "      <td>Male</td>\n",
       "      <td>19</td>\n",
       "      <td>15</td>\n",
       "      <td>39</td>\n",
       "    </tr>\n",
       "    <tr>\n",
       "      <th>1</th>\n",
       "      <td>2</td>\n",
       "      <td>Male</td>\n",
       "      <td>21</td>\n",
       "      <td>15</td>\n",
       "      <td>81</td>\n",
       "    </tr>\n",
       "    <tr>\n",
       "      <th>2</th>\n",
       "      <td>3</td>\n",
       "      <td>Female</td>\n",
       "      <td>20</td>\n",
       "      <td>16</td>\n",
       "      <td>6</td>\n",
       "    </tr>\n",
       "    <tr>\n",
       "      <th>3</th>\n",
       "      <td>4</td>\n",
       "      <td>Female</td>\n",
       "      <td>23</td>\n",
       "      <td>16</td>\n",
       "      <td>77</td>\n",
       "    </tr>\n",
       "    <tr>\n",
       "      <th>4</th>\n",
       "      <td>5</td>\n",
       "      <td>Female</td>\n",
       "      <td>31</td>\n",
       "      <td>17</td>\n",
       "      <td>40</td>\n",
       "    </tr>\n",
       "    <tr>\n",
       "      <th>...</th>\n",
       "      <td>...</td>\n",
       "      <td>...</td>\n",
       "      <td>...</td>\n",
       "      <td>...</td>\n",
       "      <td>...</td>\n",
       "    </tr>\n",
       "    <tr>\n",
       "      <th>195</th>\n",
       "      <td>196</td>\n",
       "      <td>Female</td>\n",
       "      <td>35</td>\n",
       "      <td>120</td>\n",
       "      <td>79</td>\n",
       "    </tr>\n",
       "    <tr>\n",
       "      <th>196</th>\n",
       "      <td>197</td>\n",
       "      <td>Female</td>\n",
       "      <td>45</td>\n",
       "      <td>126</td>\n",
       "      <td>28</td>\n",
       "    </tr>\n",
       "    <tr>\n",
       "      <th>197</th>\n",
       "      <td>198</td>\n",
       "      <td>Male</td>\n",
       "      <td>32</td>\n",
       "      <td>126</td>\n",
       "      <td>74</td>\n",
       "    </tr>\n",
       "    <tr>\n",
       "      <th>198</th>\n",
       "      <td>199</td>\n",
       "      <td>Male</td>\n",
       "      <td>32</td>\n",
       "      <td>137</td>\n",
       "      <td>18</td>\n",
       "    </tr>\n",
       "    <tr>\n",
       "      <th>199</th>\n",
       "      <td>200</td>\n",
       "      <td>Male</td>\n",
       "      <td>30</td>\n",
       "      <td>137</td>\n",
       "      <td>83</td>\n",
       "    </tr>\n",
       "  </tbody>\n",
       "</table>\n",
       "<p>200 rows × 5 columns</p>\n",
       "</div>"
      ],
      "text/plain": [
       "     CustomerID   Genre  Age  Annual Income (k$)  Spending Score (1-100)\n",
       "0             1    Male   19                  15                      39\n",
       "1             2    Male   21                  15                      81\n",
       "2             3  Female   20                  16                       6\n",
       "3             4  Female   23                  16                      77\n",
       "4             5  Female   31                  17                      40\n",
       "..          ...     ...  ...                 ...                     ...\n",
       "195         196  Female   35                 120                      79\n",
       "196         197  Female   45                 126                      28\n",
       "197         198    Male   32                 126                      74\n",
       "198         199    Male   32                 137                      18\n",
       "199         200    Male   30                 137                      83\n",
       "\n",
       "[200 rows x 5 columns]"
      ]
     },
     "execution_count": 4,
     "metadata": {},
     "output_type": "execute_result"
    }
   ],
   "source": [
    "df"
   ]
  },
  {
   "cell_type": "code",
   "execution_count": 5,
   "id": "0e5f00a4",
   "metadata": {},
   "outputs": [
    {
     "data": {
      "text/html": [
       "<div>\n",
       "<style scoped>\n",
       "    .dataframe tbody tr th:only-of-type {\n",
       "        vertical-align: middle;\n",
       "    }\n",
       "\n",
       "    .dataframe tbody tr th {\n",
       "        vertical-align: top;\n",
       "    }\n",
       "\n",
       "    .dataframe thead th {\n",
       "        text-align: right;\n",
       "    }\n",
       "</style>\n",
       "<table border=\"1\" class=\"dataframe\">\n",
       "  <thead>\n",
       "    <tr style=\"text-align: right;\">\n",
       "      <th></th>\n",
       "      <th>CustomerID</th>\n",
       "      <th>Genre</th>\n",
       "      <th>Age</th>\n",
       "      <th>Annual Income (k$)</th>\n",
       "      <th>Spending Score (1-100)</th>\n",
       "    </tr>\n",
       "  </thead>\n",
       "  <tbody>\n",
       "    <tr>\n",
       "      <th>0</th>\n",
       "      <td>1</td>\n",
       "      <td>Male</td>\n",
       "      <td>19</td>\n",
       "      <td>15</td>\n",
       "      <td>39</td>\n",
       "    </tr>\n",
       "    <tr>\n",
       "      <th>1</th>\n",
       "      <td>2</td>\n",
       "      <td>Male</td>\n",
       "      <td>21</td>\n",
       "      <td>15</td>\n",
       "      <td>81</td>\n",
       "    </tr>\n",
       "    <tr>\n",
       "      <th>2</th>\n",
       "      <td>3</td>\n",
       "      <td>Female</td>\n",
       "      <td>20</td>\n",
       "      <td>16</td>\n",
       "      <td>6</td>\n",
       "    </tr>\n",
       "    <tr>\n",
       "      <th>3</th>\n",
       "      <td>4</td>\n",
       "      <td>Female</td>\n",
       "      <td>23</td>\n",
       "      <td>16</td>\n",
       "      <td>77</td>\n",
       "    </tr>\n",
       "    <tr>\n",
       "      <th>4</th>\n",
       "      <td>5</td>\n",
       "      <td>Female</td>\n",
       "      <td>31</td>\n",
       "      <td>17</td>\n",
       "      <td>40</td>\n",
       "    </tr>\n",
       "  </tbody>\n",
       "</table>\n",
       "</div>"
      ],
      "text/plain": [
       "   CustomerID   Genre  Age  Annual Income (k$)  Spending Score (1-100)\n",
       "0           1    Male   19                  15                      39\n",
       "1           2    Male   21                  15                      81\n",
       "2           3  Female   20                  16                       6\n",
       "3           4  Female   23                  16                      77\n",
       "4           5  Female   31                  17                      40"
      ]
     },
     "execution_count": 5,
     "metadata": {},
     "output_type": "execute_result"
    }
   ],
   "source": [
    "df.head()"
   ]
  },
  {
   "cell_type": "markdown",
   "id": "6d22a148",
   "metadata": {},
   "source": [
    "# <u>Data Preprocessing</u>"
   ]
  },
  {
   "cell_type": "code",
   "execution_count": 6,
   "id": "4a571fdb",
   "metadata": {},
   "outputs": [
    {
     "data": {
      "text/plain": [
       "(200, 5)"
      ]
     },
     "execution_count": 6,
     "metadata": {},
     "output_type": "execute_result"
    }
   ],
   "source": [
    "df.shape"
   ]
  },
  {
   "cell_type": "code",
   "execution_count": 7,
   "id": "94ae123b",
   "metadata": {},
   "outputs": [
    {
     "name": "stdout",
     "output_type": "stream",
     "text": [
      "<class 'pandas.core.frame.DataFrame'>\n",
      "RangeIndex: 200 entries, 0 to 199\n",
      "Data columns (total 5 columns):\n",
      " #   Column                  Non-Null Count  Dtype \n",
      "---  ------                  --------------  ----- \n",
      " 0   CustomerID              200 non-null    int64 \n",
      " 1   Genre                   200 non-null    object\n",
      " 2   Age                     200 non-null    int64 \n",
      " 3   Annual Income (k$)      200 non-null    int64 \n",
      " 4   Spending Score (1-100)  200 non-null    int64 \n",
      "dtypes: int64(4), object(1)\n",
      "memory usage: 7.9+ KB\n"
     ]
    }
   ],
   "source": [
    "df.info()"
   ]
  },
  {
   "cell_type": "code",
   "execution_count": 8,
   "id": "7a24a5a0",
   "metadata": {},
   "outputs": [
    {
     "data": {
      "text/html": [
       "<div>\n",
       "<style scoped>\n",
       "    .dataframe tbody tr th:only-of-type {\n",
       "        vertical-align: middle;\n",
       "    }\n",
       "\n",
       "    .dataframe tbody tr th {\n",
       "        vertical-align: top;\n",
       "    }\n",
       "\n",
       "    .dataframe thead th {\n",
       "        text-align: right;\n",
       "    }\n",
       "</style>\n",
       "<table border=\"1\" class=\"dataframe\">\n",
       "  <thead>\n",
       "    <tr style=\"text-align: right;\">\n",
       "      <th></th>\n",
       "      <th>CustomerID</th>\n",
       "      <th>Age</th>\n",
       "      <th>Annual Income (k$)</th>\n",
       "      <th>Spending Score (1-100)</th>\n",
       "    </tr>\n",
       "  </thead>\n",
       "  <tbody>\n",
       "    <tr>\n",
       "      <th>count</th>\n",
       "      <td>200.000000</td>\n",
       "      <td>200.000000</td>\n",
       "      <td>200.000000</td>\n",
       "      <td>200.000000</td>\n",
       "    </tr>\n",
       "    <tr>\n",
       "      <th>mean</th>\n",
       "      <td>100.500000</td>\n",
       "      <td>38.850000</td>\n",
       "      <td>60.560000</td>\n",
       "      <td>50.200000</td>\n",
       "    </tr>\n",
       "    <tr>\n",
       "      <th>std</th>\n",
       "      <td>57.879185</td>\n",
       "      <td>13.969007</td>\n",
       "      <td>26.264721</td>\n",
       "      <td>25.823522</td>\n",
       "    </tr>\n",
       "    <tr>\n",
       "      <th>min</th>\n",
       "      <td>1.000000</td>\n",
       "      <td>18.000000</td>\n",
       "      <td>15.000000</td>\n",
       "      <td>1.000000</td>\n",
       "    </tr>\n",
       "    <tr>\n",
       "      <th>25%</th>\n",
       "      <td>50.750000</td>\n",
       "      <td>28.750000</td>\n",
       "      <td>41.500000</td>\n",
       "      <td>34.750000</td>\n",
       "    </tr>\n",
       "    <tr>\n",
       "      <th>50%</th>\n",
       "      <td>100.500000</td>\n",
       "      <td>36.000000</td>\n",
       "      <td>61.500000</td>\n",
       "      <td>50.000000</td>\n",
       "    </tr>\n",
       "    <tr>\n",
       "      <th>75%</th>\n",
       "      <td>150.250000</td>\n",
       "      <td>49.000000</td>\n",
       "      <td>78.000000</td>\n",
       "      <td>73.000000</td>\n",
       "    </tr>\n",
       "    <tr>\n",
       "      <th>max</th>\n",
       "      <td>200.000000</td>\n",
       "      <td>70.000000</td>\n",
       "      <td>137.000000</td>\n",
       "      <td>99.000000</td>\n",
       "    </tr>\n",
       "  </tbody>\n",
       "</table>\n",
       "</div>"
      ],
      "text/plain": [
       "       CustomerID         Age  Annual Income (k$)  Spending Score (1-100)\n",
       "count  200.000000  200.000000          200.000000              200.000000\n",
       "mean   100.500000   38.850000           60.560000               50.200000\n",
       "std     57.879185   13.969007           26.264721               25.823522\n",
       "min      1.000000   18.000000           15.000000                1.000000\n",
       "25%     50.750000   28.750000           41.500000               34.750000\n",
       "50%    100.500000   36.000000           61.500000               50.000000\n",
       "75%    150.250000   49.000000           78.000000               73.000000\n",
       "max    200.000000   70.000000          137.000000               99.000000"
      ]
     },
     "execution_count": 8,
     "metadata": {},
     "output_type": "execute_result"
    }
   ],
   "source": [
    "df.describe()"
   ]
  },
  {
   "cell_type": "code",
   "execution_count": 9,
   "id": "a606179d",
   "metadata": {},
   "outputs": [],
   "source": [
    "corr= df.corr()"
   ]
  },
  {
   "cell_type": "code",
   "execution_count": 10,
   "id": "fab13379",
   "metadata": {},
   "outputs": [
    {
     "data": {
      "text/html": [
       "<div>\n",
       "<style scoped>\n",
       "    .dataframe tbody tr th:only-of-type {\n",
       "        vertical-align: middle;\n",
       "    }\n",
       "\n",
       "    .dataframe tbody tr th {\n",
       "        vertical-align: top;\n",
       "    }\n",
       "\n",
       "    .dataframe thead th {\n",
       "        text-align: right;\n",
       "    }\n",
       "</style>\n",
       "<table border=\"1\" class=\"dataframe\">\n",
       "  <thead>\n",
       "    <tr style=\"text-align: right;\">\n",
       "      <th></th>\n",
       "      <th>CustomerID</th>\n",
       "      <th>Age</th>\n",
       "      <th>Annual Income (k$)</th>\n",
       "      <th>Spending Score (1-100)</th>\n",
       "    </tr>\n",
       "  </thead>\n",
       "  <tbody>\n",
       "    <tr>\n",
       "      <th>CustomerID</th>\n",
       "      <td>1.000000</td>\n",
       "      <td>-0.026763</td>\n",
       "      <td>0.977548</td>\n",
       "      <td>0.013835</td>\n",
       "    </tr>\n",
       "    <tr>\n",
       "      <th>Age</th>\n",
       "      <td>-0.026763</td>\n",
       "      <td>1.000000</td>\n",
       "      <td>-0.012398</td>\n",
       "      <td>-0.327227</td>\n",
       "    </tr>\n",
       "    <tr>\n",
       "      <th>Annual Income (k$)</th>\n",
       "      <td>0.977548</td>\n",
       "      <td>-0.012398</td>\n",
       "      <td>1.000000</td>\n",
       "      <td>0.009903</td>\n",
       "    </tr>\n",
       "    <tr>\n",
       "      <th>Spending Score (1-100)</th>\n",
       "      <td>0.013835</td>\n",
       "      <td>-0.327227</td>\n",
       "      <td>0.009903</td>\n",
       "      <td>1.000000</td>\n",
       "    </tr>\n",
       "  </tbody>\n",
       "</table>\n",
       "</div>"
      ],
      "text/plain": [
       "                        CustomerID       Age  Annual Income (k$)  \\\n",
       "CustomerID                1.000000 -0.026763            0.977548   \n",
       "Age                      -0.026763  1.000000           -0.012398   \n",
       "Annual Income (k$)        0.977548 -0.012398            1.000000   \n",
       "Spending Score (1-100)    0.013835 -0.327227            0.009903   \n",
       "\n",
       "                        Spending Score (1-100)  \n",
       "CustomerID                            0.013835  \n",
       "Age                                  -0.327227  \n",
       "Annual Income (k$)                    0.009903  \n",
       "Spending Score (1-100)                1.000000  "
      ]
     },
     "execution_count": 10,
     "metadata": {},
     "output_type": "execute_result"
    }
   ],
   "source": [
    "corr"
   ]
  },
  {
   "cell_type": "code",
   "execution_count": 11,
   "id": "2ea6701f",
   "metadata": {},
   "outputs": [
    {
     "data": {
      "text/plain": [
       "<Axes: >"
      ]
     },
     "execution_count": 11,
     "metadata": {},
     "output_type": "execute_result"
    },
    {
     "data": {
      "image/png": "[encoded data removed]",
      "text/plain": [
       "<Figure size 640x480 with 2 Axes>"
      ]
     },
     "metadata": {},
     "output_type": "display_data"
    }
   ],
   "source": [
    "sns.heatmap(corr, annot=True)"
   ]
  },
  {
   "cell_type": "code",
   "execution_count": 12,
   "id": "89fc160a",
   "metadata": {},
   "outputs": [
    {
     "data": {
      "text/plain": [
       "Female    112\n",
       "Male       88\n",
       "Name: Genre, dtype: int64"
      ]
     },
     "execution_count": 12,
     "metadata": {},
     "output_type": "execute_result"
    }
   ],
   "source": [
    "df.Genre.value_counts()"
   ]
  },
  {
   "cell_type": "code",
   "execution_count": 13,
   "id": "53e1c8db",
   "metadata": {},
   "outputs": [
    {
     "data": {
      "text/plain": [
       "CustomerID                False\n",
       "Genre                     False\n",
       "Age                       False\n",
       "Annual Income (k$)        False\n",
       "Spending Score (1-100)    False\n",
       "dtype: bool"
      ]
     },
     "execution_count": 13,
     "metadata": {},
     "output_type": "execute_result"
    }
   ],
   "source": [
    "df.isnull().any()"
   ]
  },
  {
   "cell_type": "code",
   "execution_count": 14,
   "id": "7bf641dc",
   "metadata": {},
   "outputs": [
    {
     "data": {
      "text/plain": [
       "CustomerID                0\n",
       "Genre                     0\n",
       "Age                       0\n",
       "Annual Income (k$)        0\n",
       "Spending Score (1-100)    0\n",
       "dtype: int64"
      ]
     },
     "execution_count": 14,
     "metadata": {},
     "output_type": "execute_result"
    }
   ],
   "source": [
    "df.isnull().sum()"
   ]
  },
  {
   "cell_type": "code",
   "execution_count": 15,
   "id": "87165c01",
   "metadata": {},
   "outputs": [],
   "source": [
    "le=LabelEncoder()"
   ]
  },
  {
   "cell_type": "code",
   "execution_count": 16,
   "id": "8dca56a1",
   "metadata": {},
   "outputs": [],
   "source": [
    "df[\"Genre\"]=le.fit_transform(df[\"Genre\"])"
   ]
  },
  {
   "cell_type": "code",
   "execution_count": 17,
   "id": "64d95297",
   "metadata": {},
   "outputs": [
    {
     "data": {
      "text/html": [
       "<div>\n",
       "<style scoped>\n",
       "    .dataframe tbody tr th:only-of-type {\n",
       "        vertical-align: middle;\n",
       "    }\n",
       "\n",
       "    .dataframe tbody tr th {\n",
       "        vertical-align: top;\n",
       "    }\n",
       "\n",
       "    .dataframe thead th {\n",
       "        text-align: right;\n",
       "    }\n",
       "</style>\n",
       "<table border=\"1\" class=\"dataframe\">\n",
       "  <thead>\n",
       "    <tr style=\"text-align: right;\">\n",
       "      <th></th>\n",
       "      <th>CustomerID</th>\n",
       "      <th>Genre</th>\n",
       "      <th>Age</th>\n",
       "      <th>Annual Income (k$)</th>\n",
       "      <th>Spending Score (1-100)</th>\n",
       "    </tr>\n",
       "  </thead>\n",
       "  <tbody>\n",
       "    <tr>\n",
       "      <th>0</th>\n",
       "      <td>1</td>\n",
       "      <td>1</td>\n",
       "      <td>19</td>\n",
       "      <td>15</td>\n",
       "      <td>39</td>\n",
       "    </tr>\n",
       "    <tr>\n",
       "      <th>1</th>\n",
       "      <td>2</td>\n",
       "      <td>1</td>\n",
       "      <td>21</td>\n",
       "      <td>15</td>\n",
       "      <td>81</td>\n",
       "    </tr>\n",
       "    <tr>\n",
       "      <th>2</th>\n",
       "      <td>3</td>\n",
       "      <td>0</td>\n",
       "      <td>20</td>\n",
       "      <td>16</td>\n",
       "      <td>6</td>\n",
       "    </tr>\n",
       "    <tr>\n",
       "      <th>3</th>\n",
       "      <td>4</td>\n",
       "      <td>0</td>\n",
       "      <td>23</td>\n",
       "      <td>16</td>\n",
       "      <td>77</td>\n",
       "    </tr>\n",
       "    <tr>\n",
       "      <th>4</th>\n",
       "      <td>5</td>\n",
       "      <td>0</td>\n",
       "      <td>31</td>\n",
       "      <td>17</td>\n",
       "      <td>40</td>\n",
       "    </tr>\n",
       "  </tbody>\n",
       "</table>\n",
       "</div>"
      ],
      "text/plain": [
       "   CustomerID  Genre  Age  Annual Income (k$)  Spending Score (1-100)\n",
       "0           1      1   19                  15                      39\n",
       "1           2      1   21                  15                      81\n",
       "2           3      0   20                  16                       6\n",
       "3           4      0   23                  16                      77\n",
       "4           5      0   31                  17                      40"
      ]
     },
     "execution_count": 17,
     "metadata": {},
     "output_type": "execute_result"
    }
   ],
   "source": [
    "df.head()"
   ]
  },
  {
   "cell_type": "markdown",
   "id": "4851d3b6",
   "metadata": {},
   "source": [
    "# <u>Select the Features to cluster</u>"
   ]
  },
  {
   "cell_type": "code",
   "execution_count": 18,
   "id": "49ef1a15",
   "metadata": {},
   "outputs": [],
   "source": [
    "X=df.iloc[:,1:].values"
   ]
  },
  {
   "cell_type": "code",
   "execution_count": 19,
   "id": "b2b035be",
   "metadata": {},
   "outputs": [
    {
     "data": {
      "text/plain": [
       "array([[  1,  19,  15,  39],\n",
       "       [  1,  21,  15,  81],\n",
       "       [  0,  20,  16,   6],\n",
       "       [  0,  23,  16,  77],\n",
       "       [  0,  31,  17,  40],\n",
       "       [  0,  22,  17,  76],\n",
       "       [  0,  35,  18,   6],\n",
       "       [  0,  23,  18,  94],\n",
       "       [  1,  64,  19,   3],\n",
       "       [  0,  30,  19,  72],\n",
       "       [  1,  67,  19,  14],\n",
       "       [  0,  35,  19,  99],\n",
       "       [  0,  58,  20,  15],\n",
       "       [  0,  24,  20,  77],\n",
       "       [  1,  37,  20,  13],\n",
       "       [  1,  22,  20,  79],\n",
       "       [  0,  35,  21,  35],\n",
       "       [  1,  20,  21,  66],\n",
       "       [  1,  52,  23,  29],\n",
       "       [  0,  35,  23,  98],\n",
       "       [  1,  35,  24,  35],\n",
       "       [  1,  25,  24,  73],\n",
       "       [  0,  46,  25,   5],\n",
       "       [  1,  31,  25,  73],\n",
       "       [  0,  54,  28,  14],\n",
       "       [  1,  29,  28,  82],\n",
       "       [  0,  45,  28,  32],\n",
       "       [  1,  35,  28,  61],\n",
       "       [  0,  40,  29,  31],\n",
       "       [  0,  23,  29,  87],\n",
       "       [  1,  60,  30,   4],\n",
       "       [  0,  21,  30,  73],\n",
       "       [  1,  53,  33,   4],\n",
       "       [  1,  18,  33,  92],\n",
       "       [  0,  49,  33,  14],\n",
       "       [  0,  21,  33,  81],\n",
       "       [  0,  42,  34,  17],\n",
       "       [  0,  30,  34,  73],\n",
       "       [  0,  36,  37,  26],\n",
       "       [  0,  20,  37,  75],\n",
       "       [  0,  65,  38,  35],\n",
       "       [  1,  24,  38,  92],\n",
       "       [  1,  48,  39,  36],\n",
       "       [  0,  31,  39,  61],\n",
       "       [  0,  49,  39,  28],\n",
       "       [  0,  24,  39,  65],\n",
       "       [  0,  50,  40,  55],\n",
       "       [  0,  27,  40,  47],\n",
       "       [  0,  29,  40,  42],\n",
       "       [  0,  31,  40,  42],\n",
       "       [  0,  49,  42,  52],\n",
       "       [  1,  33,  42,  60],\n",
       "       [  0,  31,  43,  54],\n",
       "       [  1,  59,  43,  60],\n",
       "       [  0,  50,  43,  45],\n",
       "       [  1,  47,  43,  41],\n",
       "       [  0,  51,  44,  50],\n",
       "       [  1,  69,  44,  46],\n",
       "       [  0,  27,  46,  51],\n",
       "       [  1,  53,  46,  46],\n",
       "       [  1,  70,  46,  56],\n",
       "       [  1,  19,  46,  55],\n",
       "       [  0,  67,  47,  52],\n",
       "       [  0,  54,  47,  59],\n",
       "       [  1,  63,  48,  51],\n",
       "       [  1,  18,  48,  59],\n",
       "       [  0,  43,  48,  50],\n",
       "       [  0,  68,  48,  48],\n",
       "       [  1,  19,  48,  59],\n",
       "       [  0,  32,  48,  47],\n",
       "       [  1,  70,  49,  55],\n",
       "       [  0,  47,  49,  42],\n",
       "       [  0,  60,  50,  49],\n",
       "       [  0,  60,  50,  56],\n",
       "       [  1,  59,  54,  47],\n",
       "       [  1,  26,  54,  54],\n",
       "       [  0,  45,  54,  53],\n",
       "       [  1,  40,  54,  48],\n",
       "       [  0,  23,  54,  52],\n",
       "       [  0,  49,  54,  42],\n",
       "       [  1,  57,  54,  51],\n",
       "       [  1,  38,  54,  55],\n",
       "       [  1,  67,  54,  41],\n",
       "       [  0,  46,  54,  44],\n",
       "       [  0,  21,  54,  57],\n",
       "       [  1,  48,  54,  46],\n",
       "       [  0,  55,  57,  58],\n",
       "       [  0,  22,  57,  55],\n",
       "       [  0,  34,  58,  60],\n",
       "       [  0,  50,  58,  46],\n",
       "       [  0,  68,  59,  55],\n",
       "       [  1,  18,  59,  41],\n",
       "       [  1,  48,  60,  49],\n",
       "       [  0,  40,  60,  40],\n",
       "       [  0,  32,  60,  42],\n",
       "       [  1,  24,  60,  52],\n",
       "       [  0,  47,  60,  47],\n",
       "       [  0,  27,  60,  50],\n",
       "       [  1,  48,  61,  42],\n",
       "       [  1,  20,  61,  49],\n",
       "       [  0,  23,  62,  41],\n",
       "       [  0,  49,  62,  48],\n",
       "       [  1,  67,  62,  59],\n",
       "       [  1,  26,  62,  55],\n",
       "       [  1,  49,  62,  56],\n",
       "       [  0,  21,  62,  42],\n",
       "       [  0,  66,  63,  50],\n",
       "       [  1,  54,  63,  46],\n",
       "       [  1,  68,  63,  43],\n",
       "       [  1,  66,  63,  48],\n",
       "       [  1,  65,  63,  52],\n",
       "       [  0,  19,  63,  54],\n",
       "       [  0,  38,  64,  42],\n",
       "       [  1,  19,  64,  46],\n",
       "       [  0,  18,  65,  48],\n",
       "       [  0,  19,  65,  50],\n",
       "       [  0,  63,  65,  43],\n",
       "       [  0,  49,  65,  59],\n",
       "       [  0,  51,  67,  43],\n",
       "       [  0,  50,  67,  57],\n",
       "       [  1,  27,  67,  56],\n",
       "       [  0,  38,  67,  40],\n",
       "       [  0,  40,  69,  58],\n",
       "       [  1,  39,  69,  91],\n",
       "       [  0,  23,  70,  29],\n",
       "       [  0,  31,  70,  77],\n",
       "       [  1,  43,  71,  35],\n",
       "       [  1,  40,  71,  95],\n",
       "       [  1,  59,  71,  11],\n",
       "       [  1,  38,  71,  75],\n",
       "       [  1,  47,  71,   9],\n",
       "       [  1,  39,  71,  75],\n",
       "       [  0,  25,  72,  34],\n",
       "       [  0,  31,  72,  71],\n",
       "       [  1,  20,  73,   5],\n",
       "       [  0,  29,  73,  88],\n",
       "       [  0,  44,  73,   7],\n",
       "       [  1,  32,  73,  73],\n",
       "       [  1,  19,  74,  10],\n",
       "       [  0,  35,  74,  72],\n",
       "       [  0,  57,  75,   5],\n",
       "       [  1,  32,  75,  93],\n",
       "       [  0,  28,  76,  40],\n",
       "       [  0,  32,  76,  87],\n",
       "       [  1,  25,  77,  12],\n",
       "       [  1,  28,  77,  97],\n",
       "       [  1,  48,  77,  36],\n",
       "       [  0,  32,  77,  74],\n",
       "       [  0,  34,  78,  22],\n",
       "       [  1,  34,  78,  90],\n",
       "       [  1,  43,  78,  17],\n",
       "       [  1,  39,  78,  88],\n",
       "       [  0,  44,  78,  20],\n",
       "       [  0,  38,  78,  76],\n",
       "       [  0,  47,  78,  16],\n",
       "       [  0,  27,  78,  89],\n",
       "       [  1,  37,  78,   1],\n",
       "       [  0,  30,  78,  78],\n",
       "       [  1,  34,  78,   1],\n",
       "       [  0,  30,  78,  73],\n",
       "       [  0,  56,  79,  35],\n",
       "       [  0,  29,  79,  83],\n",
       "       [  1,  19,  81,   5],\n",
       "       [  0,  31,  81,  93],\n",
       "       [  1,  50,  85,  26],\n",
       "       [  0,  36,  85,  75],\n",
       "       [  1,  42,  86,  20],\n",
       "       [  0,  33,  86,  95],\n",
       "       [  0,  36,  87,  27],\n",
       "       [  1,  32,  87,  63],\n",
       "       [  1,  40,  87,  13],\n",
       "       [  1,  28,  87,  75],\n",
       "       [  1,  36,  87,  10],\n",
       "       [  1,  36,  87,  92],\n",
       "       [  0,  52,  88,  13],\n",
       "       [  0,  30,  88,  86],\n",
       "       [  1,  58,  88,  15],\n",
       "       [  1,  27,  88,  69],\n",
       "       [  1,  59,  93,  14],\n",
       "       [  1,  35,  93,  90],\n",
       "       [  0,  37,  97,  32],\n",
       "       [  0,  32,  97,  86],\n",
       "       [  1,  46,  98,  15],\n",
       "       [  0,  29,  98,  88],\n",
       "       [  0,  41,  99,  39],\n",
       "       [  1,  30,  99,  97],\n",
       "       [  0,  54, 101,  24],\n",
       "       [  1,  28, 101,  68],\n",
       "       [  0,  41, 103,  17],\n",
       "       [  0,  36, 103,  85],\n",
       "       [  0,  34, 103,  23],\n",
       "       [  0,  32, 103,  69],\n",
       "       [  1,  33, 113,   8],\n",
       "       [  0,  38, 113,  91],\n",
       "       [  0,  47, 120,  16],\n",
       "       [  0,  35, 120,  79],\n",
       "       [  0,  45, 126,  28],\n",
       "       [  1,  32, 126,  74],\n",
       "       [  1,  32, 137,  18],\n",
       "       [  1,  30, 137,  83]], dtype=int64)"
      ]
     },
     "execution_count": 19,
     "metadata": {},
     "output_type": "execute_result"
    }
   ],
   "source": [
    "X"
   ]
  },
  {
   "cell_type": "code",
   "execution_count": 20,
   "id": "b7ab16f0",
   "metadata": {},
   "outputs": [
    {
     "data": {
      "text/plain": [
       "<matplotlib.collections.PathCollection at 0x218e1abbb50>"
      ]
     },
     "execution_count": 20,
     "metadata": {},
     "output_type": "execute_result"
    },
    {
     "data": {
      "image/png": "[encoded data removed]",
      "text/plain": [
       "<Figure size 640x480 with 1 Axes>"
      ]
     },
     "metadata": {},
     "output_type": "display_data"
    }
   ],
   "source": [
    "plt.scatter(X[:,2],X[:,3])"
   ]
  },
  {
   "cell_type": "markdown",
   "id": "6df531a8",
   "metadata": {},
   "source": [
    "# <u>Find optimal no.of clusters - Elbow Method</u>"
   ]
  },
  {
   "cell_type": "code",
   "execution_count": 21,
   "id": "b2b2f5ff",
   "metadata": {},
   "outputs": [],
   "source": [
    "wcss=[]\n",
    "for k in range(1,11):#k=1  to 10\n",
    "    kmeans=KMeans(n_clusters=k, init=\"k-means++\",random_state=0)\n",
    "    kmeans.fit(X)\n",
    "    wcss.append(kmeans.inertia_)"
   ]
  },
  {
   "cell_type": "code",
   "execution_count": 22,
   "id": "c008dce2",
   "metadata": {},
   "outputs": [
    {
     "data": {
      "text/plain": [
       "[308862.06,\n",
       " 212889.442455243,\n",
       " 143391.59236035674,\n",
       " 104414.67534220166,\n",
       " 75399.61541401484,\n",
       " 58348.64136331505,\n",
       " 51165.184237107926,\n",
       " 44389.807673557676,\n",
       " 40670.989962363215,\n",
       " 37201.52704476877]"
      ]
     },
     "execution_count": 22,
     "metadata": {},
     "output_type": "execute_result"
    }
   ],
   "source": [
    "wcss"
   ]
  },
  {
   "cell_type": "code",
   "execution_count": 23,
   "id": "bcb40190",
   "metadata": {},
   "outputs": [
    {
     "data": {
      "image/png": "[encoded data removed]",
      "text/plain": [
       "<Figure size 800x600 with 1 Axes>"
      ]
     },
     "metadata": {},
     "output_type": "display_data"
    }
   ],
   "source": [
    "plt.figure(figsize=(8,6))\n",
    "plt.plot(range(1,11),wcss,marker=\"o\",color=\"red\")\n",
    "plt.title(\"Elbow method for finding optimal k\")\n",
    "plt.xlabel(\"number of clusters k\")\n",
    "plt.ylabel(\"wcss\")\n",
    "plt.grid()\n",
    "plt.show()"
   ]
  },
  {
   "cell_type": "code",
   "execution_count": 24,
   "id": "b31b3184",
   "metadata": {},
   "outputs": [],
   "source": [
    "kmeans=KMeans(n_clusters=5, init=\"k-means++\",random_state=0)\n",
    "y_kmeans=kmeans.fit_predict(X)"
   ]
  },
  {
   "cell_type": "code",
   "execution_count": 25,
   "id": "ecb8892c",
   "metadata": {},
   "outputs": [
    {
     "data": {
      "text/plain": [
       "array([0, 3, 0, 3, 0, 3, 0, 3, 0, 3, 0, 3, 0, 3, 0, 3, 0, 3, 0, 3, 0, 3,\n",
       "       0, 3, 0, 3, 0, 3, 0, 3, 0, 3, 0, 3, 0, 3, 0, 3, 0, 3, 0, 3, 0, 3,\n",
       "       0, 3, 2, 2, 2, 2, 2, 2, 2, 2, 2, 2, 2, 2, 2, 2, 2, 2, 2, 2, 2, 2,\n",
       "       2, 2, 2, 2, 2, 2, 2, 2, 2, 2, 2, 2, 2, 2, 2, 2, 2, 2, 2, 2, 2, 2,\n",
       "       2, 2, 2, 2, 2, 2, 2, 2, 2, 2, 2, 2, 2, 2, 2, 2, 2, 2, 2, 2, 2, 2,\n",
       "       2, 2, 2, 2, 2, 2, 2, 2, 2, 2, 2, 2, 2, 1, 4, 1, 2, 1, 4, 1, 4, 1,\n",
       "       4, 1, 4, 1, 4, 1, 4, 1, 4, 1, 2, 1, 4, 1, 4, 1, 4, 1, 4, 1, 4, 1,\n",
       "       4, 1, 4, 1, 4, 1, 4, 1, 4, 1, 4, 1, 4, 1, 4, 1, 4, 1, 4, 1, 4, 1,\n",
       "       4, 1, 4, 1, 4, 1, 4, 1, 4, 1, 4, 1, 4, 1, 4, 1, 4, 1, 4, 1, 4, 1,\n",
       "       4, 1])"
      ]
     },
     "execution_count": 25,
     "metadata": {},
     "output_type": "execute_result"
    }
   ],
   "source": [
    "y_kmeans"
   ]
  },
  {
   "cell_type": "code",
   "execution_count": 26,
   "id": "7f2243fb",
   "metadata": {},
   "outputs": [
    {
     "data": {
      "text/plain": [
       "array([[  1,  19,  15,  39],\n",
       "       [  1,  21,  15,  81],\n",
       "       [  0,  20,  16,   6],\n",
       "       [  0,  23,  16,  77],\n",
       "       [  0,  31,  17,  40],\n",
       "       [  0,  22,  17,  76],\n",
       "       [  0,  35,  18,   6],\n",
       "       [  0,  23,  18,  94],\n",
       "       [  1,  64,  19,   3],\n",
       "       [  0,  30,  19,  72],\n",
       "       [  1,  67,  19,  14],\n",
       "       [  0,  35,  19,  99],\n",
       "       [  0,  58,  20,  15],\n",
       "       [  0,  24,  20,  77],\n",
       "       [  1,  37,  20,  13],\n",
       "       [  1,  22,  20,  79],\n",
       "       [  0,  35,  21,  35],\n",
       "       [  1,  20,  21,  66],\n",
       "       [  1,  52,  23,  29],\n",
       "       [  0,  35,  23,  98],\n",
       "       [  1,  35,  24,  35],\n",
       "       [  1,  25,  24,  73],\n",
       "       [  0,  46,  25,   5],\n",
       "       [  1,  31,  25,  73],\n",
       "       [  0,  54,  28,  14],\n",
       "       [  1,  29,  28,  82],\n",
       "       [  0,  45,  28,  32],\n",
       "       [  1,  35,  28,  61],\n",
       "       [  0,  40,  29,  31],\n",
       "       [  0,  23,  29,  87],\n",
       "       [  1,  60,  30,   4],\n",
       "       [  0,  21,  30,  73],\n",
       "       [  1,  53,  33,   4],\n",
       "       [  1,  18,  33,  92],\n",
       "       [  0,  49,  33,  14],\n",
       "       [  0,  21,  33,  81],\n",
       "       [  0,  42,  34,  17],\n",
       "       [  0,  30,  34,  73],\n",
       "       [  0,  36,  37,  26],\n",
       "       [  0,  20,  37,  75],\n",
       "       [  0,  65,  38,  35],\n",
       "       [  1,  24,  38,  92],\n",
       "       [  1,  48,  39,  36],\n",
       "       [  0,  31,  39,  61],\n",
       "       [  0,  49,  39,  28],\n",
       "       [  0,  24,  39,  65],\n",
       "       [  0,  50,  40,  55],\n",
       "       [  0,  27,  40,  47],\n",
       "       [  0,  29,  40,  42],\n",
       "       [  0,  31,  40,  42],\n",
       "       [  0,  49,  42,  52],\n",
       "       [  1,  33,  42,  60],\n",
       "       [  0,  31,  43,  54],\n",
       "       [  1,  59,  43,  60],\n",
       "       [  0,  50,  43,  45],\n",
       "       [  1,  47,  43,  41],\n",
       "       [  0,  51,  44,  50],\n",
       "       [  1,  69,  44,  46],\n",
       "       [  0,  27,  46,  51],\n",
       "       [  1,  53,  46,  46],\n",
       "       [  1,  70,  46,  56],\n",
       "       [  1,  19,  46,  55],\n",
       "       [  0,  67,  47,  52],\n",
       "       [  0,  54,  47,  59],\n",
       "       [  1,  63,  48,  51],\n",
       "       [  1,  18,  48,  59],\n",
       "       [  0,  43,  48,  50],\n",
       "       [  0,  68,  48,  48],\n",
       "       [  1,  19,  48,  59],\n",
       "       [  0,  32,  48,  47],\n",
       "       [  1,  70,  49,  55],\n",
       "       [  0,  47,  49,  42],\n",
       "       [  0,  60,  50,  49],\n",
       "       [  0,  60,  50,  56],\n",
       "       [  1,  59,  54,  47],\n",
       "       [  1,  26,  54,  54],\n",
       "       [  0,  45,  54,  53],\n",
       "       [  1,  40,  54,  48],\n",
       "       [  0,  23,  54,  52],\n",
       "       [  0,  49,  54,  42],\n",
       "       [  1,  57,  54,  51],\n",
       "       [  1,  38,  54,  55],\n",
       "       [  1,  67,  54,  41],\n",
       "       [  0,  46,  54,  44],\n",
       "       [  0,  21,  54,  57],\n",
       "       [  1,  48,  54,  46],\n",
       "       [  0,  55,  57,  58],\n",
       "       [  0,  22,  57,  55],\n",
       "       [  0,  34,  58,  60],\n",
       "       [  0,  50,  58,  46],\n",
       "       [  0,  68,  59,  55],\n",
       "       [  1,  18,  59,  41],\n",
       "       [  1,  48,  60,  49],\n",
       "       [  0,  40,  60,  40],\n",
       "       [  0,  32,  60,  42],\n",
       "       [  1,  24,  60,  52],\n",
       "       [  0,  47,  60,  47],\n",
       "       [  0,  27,  60,  50],\n",
       "       [  1,  48,  61,  42],\n",
       "       [  1,  20,  61,  49],\n",
       "       [  0,  23,  62,  41],\n",
       "       [  0,  49,  62,  48],\n",
       "       [  1,  67,  62,  59],\n",
       "       [  1,  26,  62,  55],\n",
       "       [  1,  49,  62,  56],\n",
       "       [  0,  21,  62,  42],\n",
       "       [  0,  66,  63,  50],\n",
       "       [  1,  54,  63,  46],\n",
       "       [  1,  68,  63,  43],\n",
       "       [  1,  66,  63,  48],\n",
       "       [  1,  65,  63,  52],\n",
       "       [  0,  19,  63,  54],\n",
       "       [  0,  38,  64,  42],\n",
       "       [  1,  19,  64,  46],\n",
       "       [  0,  18,  65,  48],\n",
       "       [  0,  19,  65,  50],\n",
       "       [  0,  63,  65,  43],\n",
       "       [  0,  49,  65,  59],\n",
       "       [  0,  51,  67,  43],\n",
       "       [  0,  50,  67,  57],\n",
       "       [  1,  27,  67,  56],\n",
       "       [  0,  38,  67,  40],\n",
       "       [  0,  40,  69,  58],\n",
       "       [  1,  39,  69,  91],\n",
       "       [  0,  23,  70,  29],\n",
       "       [  0,  31,  70,  77],\n",
       "       [  1,  43,  71,  35],\n",
       "       [  1,  40,  71,  95],\n",
       "       [  1,  59,  71,  11],\n",
       "       [  1,  38,  71,  75],\n",
       "       [  1,  47,  71,   9],\n",
       "       [  1,  39,  71,  75],\n",
       "       [  0,  25,  72,  34],\n",
       "       [  0,  31,  72,  71],\n",
       "       [  1,  20,  73,   5],\n",
       "       [  0,  29,  73,  88],\n",
       "       [  0,  44,  73,   7],\n",
       "       [  1,  32,  73,  73],\n",
       "       [  1,  19,  74,  10],\n",
       "       [  0,  35,  74,  72],\n",
       "       [  0,  57,  75,   5],\n",
       "       [  1,  32,  75,  93],\n",
       "       [  0,  28,  76,  40],\n",
       "       [  0,  32,  76,  87],\n",
       "       [  1,  25,  77,  12],\n",
       "       [  1,  28,  77,  97],\n",
       "       [  1,  48,  77,  36],\n",
       "       [  0,  32,  77,  74],\n",
       "       [  0,  34,  78,  22],\n",
       "       [  1,  34,  78,  90],\n",
       "       [  1,  43,  78,  17],\n",
       "       [  1,  39,  78,  88],\n",
       "       [  0,  44,  78,  20],\n",
       "       [  0,  38,  78,  76],\n",
       "       [  0,  47,  78,  16],\n",
       "       [  0,  27,  78,  89],\n",
       "       [  1,  37,  78,   1],\n",
       "       [  0,  30,  78,  78],\n",
       "       [  1,  34,  78,   1],\n",
       "       [  0,  30,  78,  73],\n",
       "       [  0,  56,  79,  35],\n",
       "       [  0,  29,  79,  83],\n",
       "       [  1,  19,  81,   5],\n",
       "       [  0,  31,  81,  93],\n",
       "       [  1,  50,  85,  26],\n",
       "       [  0,  36,  85,  75],\n",
       "       [  1,  42,  86,  20],\n",
       "       [  0,  33,  86,  95],\n",
       "       [  0,  36,  87,  27],\n",
       "       [  1,  32,  87,  63],\n",
       "       [  1,  40,  87,  13],\n",
       "       [  1,  28,  87,  75],\n",
       "       [  1,  36,  87,  10],\n",
       "       [  1,  36,  87,  92],\n",
       "       [  0,  52,  88,  13],\n",
       "       [  0,  30,  88,  86],\n",
       "       [  1,  58,  88,  15],\n",
       "       [  1,  27,  88,  69],\n",
       "       [  1,  59,  93,  14],\n",
       "       [  1,  35,  93,  90],\n",
       "       [  0,  37,  97,  32],\n",
       "       [  0,  32,  97,  86],\n",
       "       [  1,  46,  98,  15],\n",
       "       [  0,  29,  98,  88],\n",
       "       [  0,  41,  99,  39],\n",
       "       [  1,  30,  99,  97],\n",
       "       [  0,  54, 101,  24],\n",
       "       [  1,  28, 101,  68],\n",
       "       [  0,  41, 103,  17],\n",
       "       [  0,  36, 103,  85],\n",
       "       [  0,  34, 103,  23],\n",
       "       [  0,  32, 103,  69],\n",
       "       [  1,  33, 113,   8],\n",
       "       [  0,  38, 113,  91],\n",
       "       [  0,  47, 120,  16],\n",
       "       [  0,  35, 120,  79],\n",
       "       [  0,  45, 126,  28],\n",
       "       [  1,  32, 126,  74],\n",
       "       [  1,  32, 137,  18],\n",
       "       [  1,  30, 137,  83]], dtype=int64)"
      ]
     },
     "execution_count": 26,
     "metadata": {},
     "output_type": "execute_result"
    }
   ],
   "source": [
    "X"
   ]
  },
  {
   "cell_type": "markdown",
   "id": "3839e306",
   "metadata": {},
   "source": [
    "# <u>Train the model on the dataset using the optimal cluster k value</u>"
   ]
  },
  {
   "cell_type": "code",
   "execution_count": 27,
   "id": "534791fc",
   "metadata": {},
   "outputs": [],
   "source": [
    "optimal_k = 5"
   ]
  },
  {
   "cell_type": "code",
   "execution_count": 28,
   "id": "5a3e6454",
   "metadata": {},
   "outputs": [],
   "source": [
    "kmeans = KMeans(n_clusters=optimal_k, init='k-means++', random_state=42)"
   ]
  },
  {
   "cell_type": "code",
   "execution_count": 29,
   "id": "a906a657",
   "metadata": {},
   "outputs": [
    {
     "data": {
      "text/html": [
       "<style>#sk-container-id-1 {color: black;}#sk-container-id-1 pre{padding: 0;}#sk-container-id-1 div.sk-toggleable {background-color: white;}#sk-container-id-1 label.sk-toggleable__label {cursor: pointer;display: block;width: 100%;margin-bottom: 0;padding: 0.3em;box-sizing: border-box;text-align: center;}#sk-container-id-1 label.sk-toggleable__label-arrow:before {content: \"▸\";float: left;margin-right: 0.25em;color: #696969;}#sk-container-id-1 label.sk-toggleable__label-arrow:hover:before {color: black;}#sk-container-id-1 div.sk-estimator:hover label.sk-toggleable__label-arrow:before {color: black;}#sk-container-id-1 div.sk-toggleable__content {max-height: 0;max-width: 0;overflow: hidden;text-align: left;background-color: #f0f8ff;}#sk-container-id-1 div.sk-toggleable__content pre {margin: 0.2em;color: black;border-radius: 0.25em;background-color: #f0f8ff;}#sk-container-id-1 input.sk-toggleable__control:checked~div.sk-toggleable__content {max-height: 200px;max-width: 100%;overflow: auto;}#sk-container-id-1 input.sk-toggleable__control:checked~label.sk-toggleable__label-arrow:before {content: \"▾\";}#sk-container-id-1 div.sk-estimator input.sk-toggleable__control:checked~label.sk-toggleable__label {background-color: #d4ebff;}#sk-container-id-1 div.sk-label input.sk-toggleable__control:checked~label.sk-toggleable__label {background-color: #d4ebff;}#sk-container-id-1 input.sk-hidden--visually {border: 0;clip: rect(1px 1px 1px 1px);clip: rect(1px, 1px, 1px, 1px);height: 1px;margin: -1px;overflow: hidden;padding: 0;position: absolute;width: 1px;}#sk-container-id-1 div.sk-estimator {font-family: monospace;background-color: #f0f8ff;border: 1px dotted black;border-radius: 0.25em;box-sizing: border-box;margin-bottom: 0.5em;}#sk-container-id-1 div.sk-estimator:hover {background-color: #d4ebff;}#sk-container-id-1 div.sk-parallel-item::after {content: \"\";width: 100%;border-bottom: 1px solid gray;flex-grow: 1;}#sk-container-id-1 div.sk-label:hover label.sk-toggleable__label {background-color: #d4ebff;}#sk-container-id-1 div.sk-serial::before {content: \"\";position: absolute;border-left: 1px solid gray;box-sizing: border-box;top: 0;bottom: 0;left: 50%;z-index: 0;}#sk-container-id-1 div.sk-serial {display: flex;flex-direction: column;align-items: center;background-color: white;padding-right: 0.2em;padding-left: 0.2em;position: relative;}#sk-container-id-1 div.sk-item {position: relative;z-index: 1;}#sk-container-id-1 div.sk-parallel {display: flex;align-items: stretch;justify-content: center;background-color: white;position: relative;}#sk-container-id-1 div.sk-item::before, #sk-container-id-1 div.sk-parallel-item::before {content: \"\";position: absolute;border-left: 1px solid gray;box-sizing: border-box;top: 0;bottom: 0;left: 50%;z-index: -1;}#sk-container-id-1 div.sk-parallel-item {display: flex;flex-direction: column;z-index: 1;position: relative;background-color: white;}#sk-container-id-1 div.sk-parallel-item:first-child::after {align-self: flex-end;width: 50%;}#sk-container-id-1 div.sk-parallel-item:last-child::after {align-self: flex-start;width: 50%;}#sk-container-id-1 div.sk-parallel-item:only-child::after {width: 0;}#sk-container-id-1 div.sk-dashed-wrapped {border: 1px dashed gray;margin: 0 0.4em 0.5em 0.4em;box-sizing: border-box;padding-bottom: 0.4em;background-color: white;}#sk-container-id-1 div.sk-label label {font-family: monospace;font-weight: bold;display: inline-block;line-height: 1.2em;}#sk-container-id-1 div.sk-label-container {text-align: center;}#sk-container-id-1 div.sk-container {/* jupyter's `normalize.less` sets `[hidden] { display: none; }` but bootstrap.min.css set `[hidden] { display: none !important; }` so we also need the `!important` here to be able to override the default hidden behavior on the sphinx rendered scikit-learn.org. See: https://github.com/scikit-learn/scikit-learn/issues/21755 */display: inline-block !important;position: relative;}#sk-container-id-1 div.sk-text-repr-fallback {display: none;}</style><div id=\"sk-container-id-1\" class=\"sk-top-container\"><div class=\"sk-text-repr-fallback\"><pre>KMeans(n_clusters=5, random_state=42)</pre><b>In a Jupyter environment, please rerun this cell to show the HTML representation or trust the notebook. <br />On GitHub, the HTML representation is unable to render, please try loading this page with nbviewer.org.</b></div><div class=\"sk-container\" hidden><div class=\"sk-item\"><div class=\"sk-estimator sk-toggleable\"><input class=\"sk-toggleable__control sk-hidden--visually\" id=\"sk-estimator-id-1\" type=\"checkbox\" checked><label for=\"sk-estimator-id-1\" class=\"sk-toggleable__label sk-toggleable__label-arrow\">KMeans</label><div class=\"sk-toggleable__content\"><pre>KMeans(n_clusters=5, random_state=42)</pre></div></div></div></div></div>"
      ],
      "text/plain": [
       "KMeans(n_clusters=5, random_state=42)"
      ]
     },
     "execution_count": 29,
     "metadata": {},
     "output_type": "execute_result"
    }
   ],
   "source": [
    "kmeans.fit(X)"
   ]
  },
  {
   "cell_type": "markdown",
   "id": "4b9b2bad",
   "metadata": {},
   "source": [
    "# <u>Visulation of the clusters</u>"
   ]
  },
  {
   "cell_type": "code",
   "execution_count": 30,
   "id": "a8fa5460",
   "metadata": {},
   "outputs": [
    {
     "data": {
      "text/plain": [
       "array([1, 0, 0, 0, 1, 1, 0, 1, 0, 1, 1, 0, 0, 0, 0, 1, 1, 0, 0, 0, 0, 1,\n",
       "       0], dtype=int64)"
      ]
     },
     "execution_count": 30,
     "metadata": {},
     "output_type": "execute_result"
    }
   ],
   "source": [
    "X[y_kmeans==0,0]"
   ]
  },
  {
   "cell_type": "code",
   "execution_count": 31,
   "id": "b026f4d6",
   "metadata": {},
   "outputs": [
    {
     "data": {
      "text/plain": [
       "<matplotlib.collections.PathCollection at 0x218e1ba2510>"
      ]
     },
     "execution_count": 31,
     "metadata": {},
     "output_type": "execute_result"
    },
    {
     "data": {
      "image/png": "[encoded data removed]",
      "text/plain": [
       "<Figure size 640x480 with 1 Axes>"
      ]
     },
     "metadata": {},
     "output_type": "display_data"
    }
   ],
   "source": [
    "plt.scatter(X[y_kmeans==0,0],X[y_kmeans==0,1],color=\"red\",s=100,label=\"cluster1\")"
   ]
  },
  {
   "cell_type": "code",
   "execution_count": 32,
   "id": "e386710d",
   "metadata": {},
   "outputs": [
    {
     "data": {
      "text/plain": [
       "<matplotlib.legend.Legend at 0x218e2b26b90>"
      ]
     },
     "execution_count": 32,
     "metadata": {},
     "output_type": "execute_result"
    },
    {
     "data": {
      "image/png": "[encoded data removed]",
      "text/plain": [
       "<Figure size 640x480 with 1 Axes>"
      ]
     },
     "metadata": {},
     "output_type": "display_data"
    }
   ],
   "source": [
    "plt.scatter(X[y_kmeans==0,0],X[y_kmeans==0,1],color=\"red\",s=100,label=\"cluster1\")\n",
    "plt.scatter(X[y_kmeans==1,0],X[y_kmeans==1,1],color=\"green\",s=100,label=\"cluster2\")\n",
    "plt.scatter(X[y_kmeans==2,0],X[y_kmeans==2,1],color=\"blue\",s=100,label=\"cluster3\")\n",
    "plt.scatter(X[y_kmeans==3,0],X[y_kmeans==3,1],color=\"pink\",s=100,label=\"cluster4\")\n",
    "plt.scatter(X[y_kmeans==4,0],X[y_kmeans==4,1],color=\"cyan\",s=100,label=\"cluster5\")\n",
    "plt.scatter(kmeans.cluster_centers_[:,0],kmeans.cluster_centers_[:,1],color=\"yellow\",s=100,label=\"centroid\")\n",
    "plt.title(\"K-means Clustering\")\n",
    "plt.xlabel(\"annual income\")\n",
    "plt.ylabel(\"spending score\")\n",
    "plt.legend()"
   ]
  },
  {
   "cell_type": "code",
   "execution_count": 33,
   "id": "5da20031",
   "metadata": {},
   "outputs": [
    {
     "data": {
      "text/plain": [
       "<matplotlib.legend.Legend at 0x218e28be4d0>"
      ]
     },
     "execution_count": 33,
     "metadata": {},
     "output_type": "execute_result"
    },
    {
     "data": {
      "image/png": "[encoded data removed]",
      "text/plain": [
       "<Figure size 640x480 with 1 Axes>"
      ]
     },
     "metadata": {},
     "output_type": "display_data"
    }
   ],
   "source": [
    "plt.scatter(X[y_kmeans==0,2],X[y_kmeans==0,3],color=\"red\",s=100,label=\"cluster1\")\n",
    "plt.scatter(X[y_kmeans==1,2],X[y_kmeans==1,3],color=\"green\",s=100,label=\"cluster2\")\n",
    "plt.scatter(X[y_kmeans==2,2],X[y_kmeans==2,3],color=\"blue\",s=100,label=\"cluster3\")\n",
    "plt.scatter(X[y_kmeans==3,2],X[y_kmeans==3,3],color=\"pink\",s=100,label=\"cluster4\")\n",
    "plt.scatter(X[y_kmeans==4,2],X[y_kmeans==4,3],color=\"cyan\",s=100,label=\"cluster5\")\n",
    "\n",
    "plt.scatter(kmeans.cluster_centers_[:,2],kmeans.cluster_centers_[:,3],color=\"yellow\",s=100,label=\"centroid\")\n",
    "plt.title(\"K-means Clustering\")\n",
    "plt.xlabel(\"annual income\")\n",
    "plt.ylabel(\"spending score\")\n",
    "plt.legend()"
   ]
  },
  {
   "cell_type": "code",
   "execution_count": 34,
   "id": "1652d854",
   "metadata": {},
   "outputs": [
    {
     "data": {
      "text/plain": [
       "array([4])"
      ]
     },
     "execution_count": 34,
     "metadata": {},
     "output_type": "execute_result"
    }
   ],
   "source": [
    "kmeans.predict([[0,45,20,111]])"
   ]
  },
  {
   "cell_type": "code",
   "execution_count": 35,
   "id": "7d4a92c2",
   "metadata": {},
   "outputs": [
    {
     "data": {
      "text/plain": [
       "array([2])"
      ]
     },
     "execution_count": 35,
     "metadata": {},
     "output_type": "execute_result"
    }
   ],
   "source": [
    "kmeans.predict([[1,45,120,111]])"
   ]
  }
 ],
 "metadata": {
  "kernelspec": {
   "display_name": "Python 3 (ipykernel)",
   "language": "python",
   "name": "python3"
  },
  "language_info": {
   "codemirror_mode": {
    "name": "ipython",
    "version": 3
   },
   "file_extension": ".py",
   "mimetype": "text/x-python",
   "name": "python",
   "nbconvert_exporter": "python",
   "pygments_lexer": "ipython3",
   "version": "3.11.4"
  }
 },
 "nbformat": 4,
 "nbformat_minor": 5
}
